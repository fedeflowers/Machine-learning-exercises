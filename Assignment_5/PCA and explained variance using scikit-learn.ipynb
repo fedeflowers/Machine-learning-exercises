{
 "cells": [
  {
   "cell_type": "markdown",
   "metadata": {},
   "source": [
    "# Computing explained variance using scikit-learn and by hand using numpy \n",
    "## Christian Igel, 2022"
   ]
  },
  {
   "cell_type": "code",
   "execution_count": 1,
   "metadata": {},
   "outputs": [],
   "source": [
    "import numpy as np\n",
    "from sklearn.decomposition import PCA\n",
    "from sklearn import datasets"
   ]
  },
  {
   "cell_type": "markdown",
   "metadata": {},
   "source": [
    "Load some data"
   ]
  },
  {
   "cell_type": "code",
   "execution_count": 2,
   "metadata": {},
   "outputs": [],
   "source": [
    "X = datasets.load_diabetes().data"
   ]
  },
  {
   "cell_type": "markdown",
   "metadata": {},
   "source": [
    "Do computations using scikit-learn"
   ]
  },
  {
   "cell_type": "code",
   "execution_count": 3,
   "metadata": {},
   "outputs": [
    {
     "name": "stdout",
     "output_type": "stream",
     "text": [
      "Squared singular values:\n",
      " [4.02421075 1.49231968 1.20596626 0.9554764  0.66218139 0.60271708\n",
      " 0.53656565 0.43368204 0.07832002 0.00856073]\n",
      "'Explained variance' (not normalized):\n",
      " [9.12519444e-03 3.38394485e-03 2.73461737e-03 2.16661316e-03\n",
      " 1.50154510e-03 1.36670539e-03 1.21670216e-03 9.83405978e-04\n",
      " 1.77596427e-04 1.94120858e-05]\n",
      "Explained variance per component (computed from previous result):\n",
      " [0.40242108 0.14923197 0.12059663 0.09554764 0.06621814 0.06027171\n",
      " 0.05365657 0.0433682  0.007832   0.00085607]\n",
      "Explained variance per component:\n",
      " [0.40242108 0.14923197 0.12059663 0.09554764 0.06621814 0.06027171\n",
      " 0.05365657 0.0433682  0.007832   0.00085607]\n"
     ]
    }
   ],
   "source": [
    "pca = PCA()\n",
    "pca.fit(X)\n",
    "eigenvalues = pca.singular_values_**2\n",
    "print(\"Squared singular values:\\n\", eigenvalues)\n",
    "print(\"'Explained variance' (not normalized):\\n\", pca.explained_variance_)\n",
    "print(\"Explained variance per component (computed from previous result):\\n\", pca.explained_variance_ / np.sum(pca.explained_variance_))\n",
    "print(\"Explained variance per component:\\n\", pca.explained_variance_ratio_)"
   ]
  },
  {
   "cell_type": "markdown",
   "metadata": {},
   "source": [
    "Do computations by hand"
   ]
  },
  {
   "cell_type": "code",
   "execution_count": 4,
   "metadata": {},
   "outputs": [
    {
     "name": "stdout",
     "output_type": "stream",
     "text": [
      "Eigenvalues (not Bessel corrected):\n",
      " [9.10454921e-03 3.37628886e-03 2.72843045e-03 2.16171132e-03\n",
      " 1.49814794e-03 1.36361329e-03 1.21394944e-03 9.81181078e-04\n",
      " 1.77194625e-04 1.93681670e-05]\n",
      "Explained variance per component (not Bessel corrected):\n",
      " [0.40242108 0.14923197 0.12059663 0.09554764 0.06621814 0.06027171\n",
      " 0.05365657 0.0433682  0.007832   0.00085607]\n",
      "Eigenvalues (Bessel corrected):\n",
      " [9.12519444e-03 3.38394485e-03 2.73461737e-03 2.16661316e-03\n",
      " 1.50154510e-03 1.36670539e-03 1.21670216e-03 9.83405978e-04\n",
      " 1.77596427e-04 1.94120858e-05]\n",
      "Explained variance per component (Bessel corrected):\n",
      " [0.40242108 0.14923197 0.12059663 0.09554764 0.06621814 0.06027171\n",
      " 0.05365657 0.0433682  0.007832   0.00085607]\n"
     ]
    }
   ],
   "source": [
    "# Remove mean \n",
    "Xmean=X.mean(axis=0)\n",
    "Xcentered=X-Xmean\n",
    "\n",
    "# Compute scatter matrix/empirical covariance matrix\n",
    "N = Xcentered.shape[0]  # Number of samples\n",
    "S = np.dot(Xcentered.T, Xcentered)  # Sum up outer products\n",
    "\n",
    "# Eigenvalue decomposition of empirical covariance matrix\n",
    "decomp = np.linalg.eig(S / N) # Divide by number of samples  \n",
    "eigenvalues_by_hand = -np.sort(-decomp[0])\n",
    "print(\"Eigenvalues (not Bessel corrected):\\n\", eigenvalues_by_hand)\n",
    "print(\"Explained variance per component (not Bessel corrected):\\n\", eigenvalues_by_hand / np.sum(eigenvalues_by_hand)) \n",
    "\n",
    "# Eigenvalue decomposition of empirical covariance matrix using Bessel's correction\n",
    "decomp = np.linalg.eig(S / (N-1)) # Divide by number of samples minus 1\n",
    "eigenvalues_by_hand = -np.sort(-decomp[0])\n",
    "print(\"Eigenvalues (Bessel corrected):\\n\", eigenvalues_by_hand)  \n",
    "print(\"Explained variance per component (Bessel corrected):\\n\", eigenvalues_by_hand / np.sum(eigenvalues_by_hand))  "
   ]
  },
  {
   "cell_type": "markdown",
   "metadata": {},
   "source": [
    "**That is:** `pca.singular_values_` are from the decomposition of `X`, the devision by the number of training examples `N` (or `N-1`) is missing. The `pca.explained_variance_` corresponds to the eigenvalues of the empirical covariance matrix using Bessel's correction (i.e., using `N-1`). `pca.explained_variance_ratio_` is normalized such that the explained variances sum up to one. (As expected, the explained variance does not depend on whether Bessel's correction is used or not.)"
   ]
  },
  {
   "cell_type": "code",
   "execution_count": null,
   "metadata": {},
   "outputs": [],
   "source": []
  }
 ],
 "metadata": {
  "kernelspec": {
   "display_name": "Python 3 (ipykernel)",
   "language": "python",
   "name": "python3"
  },
  "language_info": {
   "codemirror_mode": {
    "name": "ipython",
    "version": 3
   },
   "file_extension": ".py",
   "mimetype": "text/x-python",
   "name": "python",
   "nbconvert_exporter": "python",
   "pygments_lexer": "ipython3",
   "version": "3.10.5"
  }
 },
 "nbformat": 4,
 "nbformat_minor": 2
}
