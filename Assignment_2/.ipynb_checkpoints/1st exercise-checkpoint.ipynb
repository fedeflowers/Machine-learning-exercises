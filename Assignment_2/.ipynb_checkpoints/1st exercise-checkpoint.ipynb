{
 "cells": [
  {
   "cell_type": "code",
   "execution_count": 44,
   "id": "ce6221f2",
   "metadata": {},
   "outputs": [],
   "source": [
    "import matplotlib.pyplot as plt\n",
    "from scipy.stats import bernoulli\n",
    "import numpy as np\n",
    "np.random.seed(0)\n",
    "\n",
    "def bern_sampling(p, n):\n",
    "    return (np.random.rand(n) <= p).astype(np.int_)"
   ]
  },
  {
   "cell_type": "code",
   "execution_count": 45,
   "id": "bc6e256d",
   "metadata": {},
   "outputs": [],
   "source": [
    "experiments = []\n",
    "n= 1000000\n",
    "for i in range(n):\n",
    "    experiments.append(bern_sampling(0.5, 20))"
   ]
  },
  {
   "cell_type": "code",
   "execution_count": 46,
   "id": "85905005",
   "metadata": {},
   "outputs": [],
   "source": [
    "alfa = [0.5, 0.55, 0.6, 0.65, 0.7, 0.75, 0.8, 0.85, 0.9, 0.95, 1.0]"
   ]
  },
  {
   "cell_type": "code",
   "execution_count": 47,
   "id": "31b4e354",
   "metadata": {},
   "outputs": [],
   "source": [
    "empirical_freqs = []\n",
    "for i in range(len(experiments)):\n",
    "    empirical_freqs.append(np.sum(experiments[i])/len(experiments[i]))"
   ]
  },
  {
   "cell_type": "code",
   "execution_count": 48,
   "id": "fe0d813d",
   "metadata": {},
   "outputs": [],
   "source": [
    "counters = []\n",
    "for a in alfa:\n",
    "    c = 0\n",
    "    for x in empirical_freqs:\n",
    "        if x >= a :\n",
    "            c +=1\n",
    "    counters.append(c)"
   ]
  },
  {
   "cell_type": "code",
   "execution_count": 49,
   "id": "b30e9052",
   "metadata": {},
   "outputs": [
    {
     "data": {
      "text/plain": [
       "[588443, 411927, 251968, 131582, 57555, 20586, 5985, 1341, 210, 16, 1]"
      ]
     },
     "execution_count": 49,
     "metadata": {},
     "output_type": "execute_result"
    }
   ],
   "source": [
    "counters"
   ]
  },
  {
   "cell_type": "code",
   "execution_count": 50,
   "id": "272bda95",
   "metadata": {},
   "outputs": [
    {
     "data": {
      "text/plain": [
       "Text(0, 0.5, 'X')"
      ]
     },
     "execution_count": 50,
     "metadata": {},
     "output_type": "execute_result"
    },
    {
     "data": {
      "image/png": "[encoded data removed]",
      "text/plain": [
       "<Figure size 432x288 with 1 Axes>"
      ]
     },
     "metadata": {
      "needs_background": "light"
     },
     "output_type": "display_data"
    }
   ],
   "source": [
    "plt.plot(alfa, counters)\n",
    "plt.title(\"first answer\")\n",
    "plt.xlabel(\"alpha\")\n",
    "plt.ylabel(\"X\")"
   ]
  },
  {
   "cell_type": "code",
   "execution_count": 51,
   "id": "138b5d71",
   "metadata": {},
   "outputs": [],
   "source": [
    "prob_emp_freq = [x/n for x in counters]"
   ]
  },
  {
   "cell_type": "code",
   "execution_count": 52,
   "id": "618bb827",
   "metadata": {},
   "outputs": [
    {
     "data": {
      "text/plain": [
       "[0.588443,\n",
       " 0.411927,\n",
       " 0.251968,\n",
       " 0.131582,\n",
       " 0.057555,\n",
       " 0.020586,\n",
       " 0.005985,\n",
       " 0.001341,\n",
       " 0.00021,\n",
       " 1.6e-05,\n",
       " 1e-06]"
      ]
     },
     "execution_count": 52,
     "metadata": {},
     "output_type": "execute_result"
    }
   ],
   "source": [
    "prob_emp_freq"
   ]
  },
  {
   "cell_type": "code",
   "execution_count": 53,
   "id": "4bba7ffb",
   "metadata": {},
   "outputs": [],
   "source": [
    "#right_markov = [(counters[i] * prob_emp_freq[i]) / alfa[i] for i in range(len(alfa))]"
   ]
  },
  {
   "cell_type": "code",
   "execution_count": 54,
   "id": "af2fcace",
   "metadata": {},
   "outputs": [],
   "source": [
    "#right_markov"
   ]
  },
  {
   "cell_type": "code",
   "execution_count": 55,
   "id": "cf1e95db",
   "metadata": {},
   "outputs": [
    {
     "data": {
      "text/plain": [
       "' \\nmarkovs = []\\nfor j in range(len(right_markov)):\\n    c = 0\\n    for i in range(len(counters)):   \\n        if counters[i] <= right_markov[j]:\\n            c+=1\\n    markovs.append(c/len(counters))\\n'"
      ]
     },
     "execution_count": 55,
     "metadata": {},
     "output_type": "execute_result"
    }
   ],
   "source": [
    "#DOVREBBE BASTARMI LA PARTE DESTRA DELLA DISUG.\n",
    "#markov's all variable are i.i.d, the singel random variable is toss a coin, so the E[X] = 0.5 ? for all r.v.\n",
    "\n",
    "exp_val = 0.5\n",
    "markovs = []\n",
    "for i in range(len(alfa)):\n",
    "    markovs.append(exp_val/alfa[i])\n",
    "\n",
    "\n",
    "\n",
    "''' \n",
    "markovs = []\n",
    "for j in range(len(right_markov)):\n",
    "    c = 0\n",
    "    for i in range(len(counters)):   \n",
    "        if counters[i] <= right_markov[j]:\n",
    "            c+=1\n",
    "    markovs.append(c/len(counters))\n",
    "'''"
   ]
  },
  {
   "cell_type": "code",
   "execution_count": 56,
   "id": "997081cf",
   "metadata": {},
   "outputs": [
    {
     "data": {
      "text/plain": [
       "[1.0,\n",
       " 0.9090909090909091,\n",
       " 0.8333333333333334,\n",
       " 0.7692307692307692,\n",
       " 0.7142857142857143,\n",
       " 0.6666666666666666,\n",
       " 0.625,\n",
       " 0.5882352941176471,\n",
       " 0.5555555555555556,\n",
       " 0.5263157894736842,\n",
       " 0.5]"
      ]
     },
     "execution_count": 56,
     "metadata": {},
     "output_type": "execute_result"
    }
   ],
   "source": [
    "markovs"
   ]
  },
  {
   "cell_type": "code",
   "execution_count": 57,
   "id": "2c00f3ca",
   "metadata": {},
   "outputs": [
    {
     "data": {
      "text/plain": [
       "Text(0, 0.5, \"Markov's bound\")"
      ]
     },
     "execution_count": 57,
     "metadata": {},
     "output_type": "execute_result"
    },
    {
     "data": {
      "image/png": "[encoded data removed]",
      "text/plain": [
       "<Figure size 432x288 with 1 Axes>"
      ]
     },
     "metadata": {
      "needs_background": "light"
     },
     "output_type": "display_data"
    }
   ],
   "source": [
    "plt.plot(alfa, markovs)\n",
    "plt.title(\"Markov's bound\")\n",
    "plt.xlabel(\"alpha\")\n",
    "plt.ylabel(\"Markov's bound\")"
   ]
  },
  {
   "cell_type": "code",
   "execution_count": 58,
   "id": "ee55bb6e",
   "metadata": {},
   "outputs": [],
   "source": [
    "#VARIANCE: https://math.stackexchange.com/questions/3082993/tossing-a-fair-coin-n-times-what-is-the-variance\n",
    "variance = 0.25 #variance x[1] = 1/4"
   ]
  },
  {
   "cell_type": "code",
   "execution_count": 59,
   "id": "9b571cbb",
   "metadata": {},
   "outputs": [],
   "source": [
    "#chebychev:\n",
    "cheb_right = []\n",
    "n = 20 #num ind rand variables, page 11 seldin\n",
    "for i in range(len(alfa)):\n",
    "    cheb_right.append((variance/(alfa[i]**2))) #* n?, why in the discussion teh TA says there's somethign to adapt?"
   ]
  },
  {
   "cell_type": "code",
   "execution_count": 60,
   "id": "709ba2ba",
   "metadata": {},
   "outputs": [
    {
     "data": {
      "text/plain": [
       "[1.0,\n",
       " 0.8264462809917354,\n",
       " 0.6944444444444444,\n",
       " 0.5917159763313609,\n",
       " 0.5102040816326532,\n",
       " 0.4444444444444444,\n",
       " 0.39062499999999994,\n",
       " 0.34602076124567477,\n",
       " 0.30864197530864196,\n",
       " 0.2770083102493075,\n",
       " 0.25]"
      ]
     },
     "execution_count": 60,
     "metadata": {},
     "output_type": "execute_result"
    }
   ],
   "source": [
    "cheb_right"
   ]
  },
  {
   "cell_type": "code",
   "execution_count": 61,
   "id": "484dbaeb",
   "metadata": {},
   "outputs": [
    {
     "data": {
      "text/plain": [
       "'\\ncheb = []\\nfor i in range(len(alfa)):\\n    c = 0\\n    for j in range(len(alfa)):\\n        if counters[j] <= cheb_right[i]:\\n            c+=1    \\n    cheb.append(c/len(counters))\\n'"
      ]
     },
     "execution_count": 61,
     "metadata": {},
     "output_type": "execute_result"
    }
   ],
   "source": [
    "'''\n",
    "cheb = []\n",
    "for i in range(len(alfa)):\n",
    "    c = 0\n",
    "    for j in range(len(alfa)):\n",
    "        if counters[j] <= cheb_right[i]:\n",
    "            c+=1    \n",
    "    cheb.append(c/len(counters))\n",
    "'''"
   ]
  },
  {
   "cell_type": "code",
   "execution_count": 62,
   "id": "d312f112",
   "metadata": {},
   "outputs": [
    {
     "data": {
      "text/plain": [
       "[<matplotlib.lines.Line2D at 0x204ad1579a0>]"
      ]
     },
     "execution_count": 62,
     "metadata": {},
     "output_type": "execute_result"
    },
    {
     "data": {
      "image/png": "[encoded data removed]",
      "text/plain": [
       "<Figure size 432x288 with 1 Axes>"
      ]
     },
     "metadata": {
      "needs_background": "light"
     },
     "output_type": "display_data"
    }
   ],
   "source": [
    "plt.plot(alfa, cheb_right)\n",
    "plt.plot(alfa, markovs)\n"
   ]
  },
  {
   "cell_type": "code",
   "execution_count": 63,
   "id": "2a4b9670",
   "metadata": {},
   "outputs": [],
   "source": [
    "#HOEFFDING'S\n",
    "import math\n",
    "hoeff = []\n",
    "n = 20\n",
    "for i in range(len(alfa)):\n",
    "    hoeff.append(math.exp((-2*(alfa[i]**2))/n))"
   ]
  },
  {
   "cell_type": "code",
   "execution_count": 64,
   "id": "7267f167",
   "metadata": {},
   "outputs": [
    {
     "data": {
      "text/plain": [
       "[0.9753099120283326,\n",
       " 0.9702029524890169,\n",
       " 0.9646402934831231,\n",
       " 0.9586300930895252,\n",
       " 0.9521811296985049,\n",
       " 0.9453027806520595,\n",
       " 0.9380049995307295,\n",
       " 0.9302982921639203,\n",
       " 0.922193691444608,\n",
       " 0.91370273103288,\n",
       " 0.9048374180359595]"
      ]
     },
     "execution_count": 64,
     "metadata": {},
     "output_type": "execute_result"
    }
   ],
   "source": [
    "hoeff"
   ]
  },
  {
   "cell_type": "code",
   "execution_count": 65,
   "id": "32aee0f8",
   "metadata": {
    "scrolled": true
   },
   "outputs": [
    {
     "data": {
      "text/plain": [
       "<matplotlib.legend.Legend at 0x204ad1bff70>"
      ]
     },
     "execution_count": 65,
     "metadata": {},
     "output_type": "execute_result"
    },
    {
     "data": {
      "image/png": "[encoded data removed]",
      "text/plain": [
       "<Figure size 432x288 with 1 Axes>"
      ]
     },
     "metadata": {
      "needs_background": "light"
     },
     "output_type": "display_data"
    }
   ],
   "source": [
    "plt.plot(alfa, prob_emp_freq, label = 'empirical freqs')\n",
    "plt.plot(alfa, markovs, label = 'markov')\n",
    "plt.plot(alfa, cheb_right, label = 'cheb')\n",
    "plt.plot(alfa, hoeff, label = 'hoeff')\n",
    "plt.xlabel('alpha')\n",
    "plt.ylabel('prob')\n",
    "plt.legend()"
   ]
  },
  {
   "cell_type": "code",
   "execution_count": 66,
   "id": "47585df4",
   "metadata": {},
   "outputs": [
    {
     "data": {
      "text/plain": [
       "1.6e-05"
      ]
     },
     "execution_count": 66,
     "metadata": {},
     "output_type": "execute_result"
    }
   ],
   "source": [
    "#7. For α = 1 and α = 0.95 calculate the exact probability P\n",
    "count = 0\n",
    "for x in empirical_freqs:\n",
    "    if x >= 0.95:\n",
    "        count +=1\n",
    "        \n",
    "count/1000000"
   ]
  },
  {
   "cell_type": "code",
   "execution_count": 67,
   "id": "3e734a55",
   "metadata": {},
   "outputs": [
    {
     "data": {
      "text/plain": [
       "1e-06"
      ]
     },
     "execution_count": 67,
     "metadata": {},
     "output_type": "execute_result"
    }
   ],
   "source": [
    "count = 0\n",
    "for x in empirical_freqs:\n",
    "    if x >= 1:\n",
    "        count +=1\n",
    "        \n",
    "count/1000000"
   ]
  },
  {
   "cell_type": "code",
   "execution_count": 68,
   "id": "88b239b6",
   "metadata": {},
   "outputs": [],
   "source": [
    "#compare the four plots?\n",
    "#I think the idea is to compare the actual values to the boundaries and how tight they are with respect to the actual empirical freqs. but hoeffding shouldn't be the tightest??\n",
    "#because hoeff decrease exponentially while cheb 1/n\n",
    "#le empirical freqs mi dicono che con alpha 0.7 ho prob di 0.1 di superarlo, i bounds mi dicono AL MASSIMO hai un tot di prob di superarlo, e markov dovrebbe essere il meno tight credo\n",
    "#+ sono tight + empirical loss = expected loss in ML"
   ]
  },
  {
   "cell_type": "markdown",
   "id": "85141d77",
   "metadata": {},
   "source": [
    "# 2.b"
   ]
  },
  {
   "cell_type": "code",
   "execution_count": 69,
   "id": "c2d1187b",
   "metadata": {},
   "outputs": [],
   "source": [
    "#2.b\n",
    "experiments = []\n",
    "n= 1000000\n",
    "for i in range(n):\n",
    "    experiments.append(bern_sampling(0.1, 20))"
   ]
  },
  {
   "cell_type": "code",
   "execution_count": 70,
   "id": "1b12db74",
   "metadata": {},
   "outputs": [],
   "source": [
    "alfa = [0.10,0.15,0.20,0.25,0.30,0.35,0.40,0.45,0.5, 0.55, 0.6, 0.65, 0.7, 0.75, 0.8, 0.85, 0.9, 0.95, 1.0]"
   ]
  },
  {
   "cell_type": "code",
   "execution_count": 71,
   "id": "f4731512",
   "metadata": {},
   "outputs": [],
   "source": [
    "empirical_freqs = []\n",
    "for i in range(len(experiments)):\n",
    "    empirical_freqs.append(np.sum(experiments[i])/len(experiments[i]))"
   ]
  },
  {
   "cell_type": "code",
   "execution_count": 72,
   "id": "816dbdeb",
   "metadata": {},
   "outputs": [],
   "source": [
    "counters = []\n",
    "for a in alfa:\n",
    "    c = 0\n",
    "    for x in empirical_freqs:\n",
    "        if x >= a :\n",
    "            c +=1\n",
    "    counters.append(c)"
   ]
  },
  {
   "cell_type": "code",
   "execution_count": 73,
   "id": "ea2bf7ce",
   "metadata": {},
   "outputs": [],
   "source": [
    "n = 1000000\n",
    "prob_emp_freq = [x/n for x in counters]"
   ]
  },
  {
   "cell_type": "code",
   "execution_count": 74,
   "id": "50756e80",
   "metadata": {},
   "outputs": [
    {
     "data": {
      "text/plain": [
       "[0.608412,\n",
       " 0.323062,\n",
       " 0.132817,\n",
       " 0.043364,\n",
       " 0.011323,\n",
       " 0.002464,\n",
       " 0.000435,\n",
       " 6.3e-05,\n",
       " 4e-06,\n",
       " 0.0,\n",
       " 0.0,\n",
       " 0.0,\n",
       " 0.0,\n",
       " 0.0,\n",
       " 0.0,\n",
       " 0.0,\n",
       " 0.0,\n",
       " 0.0,\n",
       " 0.0]"
      ]
     },
     "execution_count": 74,
     "metadata": {},
     "output_type": "execute_result"
    }
   ],
   "source": [
    "prob_emp_freq"
   ]
  },
  {
   "cell_type": "code",
   "execution_count": 75,
   "id": "70cad3c2",
   "metadata": {},
   "outputs": [],
   "source": [
    "exp_val = 0.1\n",
    "markovs = []\n",
    "for i in range(len(alfa)):\n",
    "    markovs.append(exp_val/alfa[i])"
   ]
  },
  {
   "cell_type": "code",
   "execution_count": 76,
   "id": "1d3f8dba",
   "metadata": {},
   "outputs": [
    {
     "data": {
      "text/plain": [
       "[1.0,\n",
       " 0.6666666666666667,\n",
       " 0.5,\n",
       " 0.4,\n",
       " 0.33333333333333337,\n",
       " 0.28571428571428575,\n",
       " 0.25,\n",
       " 0.22222222222222224,\n",
       " 0.2,\n",
       " 0.18181818181818182,\n",
       " 0.16666666666666669,\n",
       " 0.15384615384615385,\n",
       " 0.14285714285714288,\n",
       " 0.13333333333333333,\n",
       " 0.125,\n",
       " 0.11764705882352942,\n",
       " 0.11111111111111112,\n",
       " 0.10526315789473685,\n",
       " 0.1]"
      ]
     },
     "execution_count": 76,
     "metadata": {},
     "output_type": "execute_result"
    }
   ],
   "source": [
    "markovs"
   ]
  },
  {
   "cell_type": "code",
   "execution_count": 77,
   "id": "64308343",
   "metadata": {},
   "outputs": [],
   "source": [
    "variance = 0.09"
   ]
  },
  {
   "cell_type": "code",
   "execution_count": 78,
   "id": "b22dad4c",
   "metadata": {},
   "outputs": [],
   "source": [
    "cheb_right = []\n",
    "for i in range(len(alfa)):\n",
    "    cheb_right.append(variance/alfa[i]**2)"
   ]
  },
  {
   "cell_type": "code",
   "execution_count": 79,
   "id": "aae21766",
   "metadata": {},
   "outputs": [
    {
     "data": {
      "text/plain": [
       "[8.999999999999998,\n",
       " 4.0,\n",
       " 2.2499999999999996,\n",
       " 1.44,\n",
       " 1.0,\n",
       " 0.7346938775510204,\n",
       " 0.5624999999999999,\n",
       " 0.4444444444444444,\n",
       " 0.36,\n",
       " 0.29752066115702475,\n",
       " 0.25,\n",
       " 0.21301775147928992,\n",
       " 0.1836734693877551,\n",
       " 0.16,\n",
       " 0.14062499999999997,\n",
       " 0.12456747404844291,\n",
       " 0.1111111111111111,\n",
       " 0.0997229916897507,\n",
       " 0.09]"
      ]
     },
     "execution_count": 79,
     "metadata": {},
     "output_type": "execute_result"
    }
   ],
   "source": [
    "cheb_right"
   ]
  },
  {
   "cell_type": "code",
   "execution_count": 80,
   "id": "e3f83403",
   "metadata": {},
   "outputs": [],
   "source": [
    "cheb_right = [1 if x >= 1 else x for x in cheb_right]"
   ]
  },
  {
   "cell_type": "code",
   "execution_count": 81,
   "id": "e4724187",
   "metadata": {},
   "outputs": [
    {
     "data": {
      "text/plain": [
       "[1,\n",
       " 1,\n",
       " 1,\n",
       " 1,\n",
       " 1,\n",
       " 0.7346938775510204,\n",
       " 0.5624999999999999,\n",
       " 0.4444444444444444,\n",
       " 0.36,\n",
       " 0.29752066115702475,\n",
       " 0.25,\n",
       " 0.21301775147928992,\n",
       " 0.1836734693877551,\n",
       " 0.16,\n",
       " 0.14062499999999997,\n",
       " 0.12456747404844291,\n",
       " 0.1111111111111111,\n",
       " 0.0997229916897507,\n",
       " 0.09]"
      ]
     },
     "execution_count": 81,
     "metadata": {},
     "output_type": "execute_result"
    }
   ],
   "source": [
    "cheb_right"
   ]
  },
  {
   "cell_type": "code",
   "execution_count": 82,
   "id": "081dfeb0",
   "metadata": {},
   "outputs": [],
   "source": [
    "import math\n",
    "hoeff = []\n",
    "n = 20\n",
    "for i in range(len(alfa)):\n",
    "    hoeff.append(math.exp((-2*(alfa[i]**2))/n))"
   ]
  },
  {
   "cell_type": "code",
   "execution_count": 83,
   "id": "58d85b4f",
   "metadata": {},
   "outputs": [
    {
     "data": {
      "text/plain": [
       "<matplotlib.legend.Legend at 0x204ad57ba00>"
      ]
     },
     "execution_count": 83,
     "metadata": {},
     "output_type": "execute_result"
    },
    {
     "data": {
      "image/png": "[encoded data removed]",
      "text/plain": [
       "<Figure size 432x288 with 1 Axes>"
      ]
     },
     "metadata": {
      "needs_background": "light"
     },
     "output_type": "display_data"
    }
   ],
   "source": [
    "plt.plot(alfa, prob_emp_freq, label = 'empirical_freqs')\n",
    "plt.plot(alfa, markovs, label = 'markov')\n",
    "plt.plot(alfa, cheb_right, label = 'cheb')\n",
    "plt.plot(alfa, hoeff, label = 'hoeff')\n",
    "plt.xlabel('alpha')\n",
    "plt.ylabel('prob')\n",
    "plt.legend()"
   ]
  },
  {
   "cell_type": "code",
   "execution_count": 84,
   "id": "6dc9ae3c",
   "metadata": {},
   "outputs": [
    {
     "data": {
      "text/plain": [
       "0.0"
      ]
     },
     "execution_count": 84,
     "metadata": {},
     "output_type": "execute_result"
    }
   ],
   "source": [
    "count = 0\n",
    "for x in empirical_freqs:\n",
    "    if x >= 1:\n",
    "        count +=1\n",
    "        \n",
    "count/1000000"
   ]
  },
  {
   "cell_type": "code",
   "execution_count": 85,
   "id": "e56d8632",
   "metadata": {},
   "outputs": [
    {
     "data": {
      "text/plain": [
       "0.0"
      ]
     },
     "execution_count": 85,
     "metadata": {},
     "output_type": "execute_result"
    }
   ],
   "source": [
    "count = 0\n",
    "for x in empirical_freqs:\n",
    "    if x >= 0.95:\n",
    "        count +=1\n",
    "        \n",
    "count/1000000"
   ]
  },
  {
   "cell_type": "code",
   "execution_count": 86,
   "id": "4b170aa2",
   "metadata": {},
   "outputs": [],
   "source": [
    "#2.c discuss the results ? "
   ]
  },
  {
   "cell_type": "code",
   "execution_count": null,
   "id": "88436c17",
   "metadata": {},
   "outputs": [],
   "source": []
  },
  {
   "cell_type": "code",
   "execution_count": null,
   "id": "accfd6d2",
   "metadata": {},
   "outputs": [],
   "source": []
  },
  {
   "cell_type": "code",
   "execution_count": null,
   "id": "b61a5dd6",
   "metadata": {},
   "outputs": [],
   "source": []
  },
  {
   "cell_type": "code",
   "execution_count": null,
   "id": "459e1672",
   "metadata": {},
   "outputs": [],
   "source": []
  },
  {
   "cell_type": "code",
   "execution_count": null,
   "id": "4dd63501",
   "metadata": {},
   "outputs": [],
   "source": []
  },
  {
   "cell_type": "code",
   "execution_count": null,
   "id": "a2f0475c",
   "metadata": {},
   "outputs": [],
   "source": []
  },
  {
   "cell_type": "code",
   "execution_count": null,
   "id": "75d4c624",
   "metadata": {},
   "outputs": [],
   "source": []
  },
  {
   "cell_type": "code",
   "execution_count": null,
   "id": "a3505558",
   "metadata": {},
   "outputs": [],
   "source": []
  },
  {
   "cell_type": "code",
   "execution_count": null,
   "id": "14925a39",
   "metadata": {},
   "outputs": [],
   "source": []
  },
  {
   "cell_type": "code",
   "execution_count": null,
   "id": "eef4362a",
   "metadata": {},
   "outputs": [],
   "source": []
  },
  {
   "cell_type": "code",
   "execution_count": null,
   "id": "1b9d13a0",
   "metadata": {},
   "outputs": [],
   "source": []
  },
  {
   "cell_type": "code",
   "execution_count": null,
   "id": "6af229b8",
   "metadata": {},
   "outputs": [],
   "source": []
  },
  {
   "cell_type": "code",
   "execution_count": null,
   "id": "6b726805",
   "metadata": {},
   "outputs": [],
   "source": []
  },
  {
   "cell_type": "code",
   "execution_count": null,
   "id": "931fe514",
   "metadata": {},
   "outputs": [],
   "source": []
  },
  {
   "cell_type": "code",
   "execution_count": null,
   "id": "34f9f4c2",
   "metadata": {},
   "outputs": [],
   "source": []
  },
  {
   "cell_type": "code",
   "execution_count": null,
   "id": "2503a5bd",
   "metadata": {},
   "outputs": [],
   "source": []
  },
  {
   "cell_type": "code",
   "execution_count": null,
   "id": "2c9fb50e",
   "metadata": {},
   "outputs": [],
   "source": []
  },
  {
   "cell_type": "code",
   "execution_count": null,
   "id": "1800eb3e",
   "metadata": {},
   "outputs": [],
   "source": []
  },
  {
   "cell_type": "code",
   "execution_count": null,
   "id": "84bfaefc",
   "metadata": {},
   "outputs": [],
   "source": []
  },
  {
   "cell_type": "code",
   "execution_count": null,
   "id": "6153bb1e",
   "metadata": {},
   "outputs": [],
   "source": []
  },
  {
   "cell_type": "code",
   "execution_count": null,
   "id": "56a661a9",
   "metadata": {},
   "outputs": [],
   "source": []
  },
  {
   "cell_type": "code",
   "execution_count": null,
   "id": "d745d291",
   "metadata": {},
   "outputs": [],
   "source": []
  },
  {
   "cell_type": "code",
   "execution_count": null,
   "id": "88df296b",
   "metadata": {},
   "outputs": [],
   "source": []
  },
  {
   "cell_type": "code",
   "execution_count": null,
   "id": "6aafb659",
   "metadata": {},
   "outputs": [],
   "source": []
  }
 ],
 "metadata": {
  "kernelspec": {
   "display_name": "Python 3 (ipykernel)",
   "language": "python",
   "name": "python3"
  },
  "language_info": {
   "codemirror_mode": {
    "name": "ipython",
    "version": 3
   },
   "file_extension": ".py",
   "mimetype": "text/x-python",
   "name": "python",
   "nbconvert_exporter": "python",
   "pygments_lexer": "ipython3",
   "version": "3.10.5"
  }
 },
 "nbformat": 4,
 "nbformat_minor": 5
}
