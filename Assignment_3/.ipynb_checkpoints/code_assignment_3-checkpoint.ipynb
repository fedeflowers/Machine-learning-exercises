{
 "cells": [
  {
   "cell_type": "code",
   "execution_count": 1,
   "id": "3e15fa14",
   "metadata": {
    "scrolled": true
   },
   "outputs": [
    {
     "name": "stdout",
     "output_type": "stream",
     "text": [
      "       0\n",
      "0    1.0\n",
      "1    0.0\n",
      "2    0.0\n",
      "3    1.0\n",
      "4    1.0\n",
      "..   ...\n",
      "554  1.0\n",
      "555  1.0\n",
      "556  0.0\n",
      "557  0.0\n",
      "558  0.0\n",
      "\n",
      "[559 rows x 1 columns]\n"
     ]
    }
   ],
   "source": [
    "import pandas as pd\n",
    "\n",
    "df = pd.read_csv ('S.csv', header=None)\n",
    "print (df)"
   ]
  },
  {
   "cell_type": "code",
   "execution_count": 2,
   "id": "d8ea5697",
   "metadata": {},
   "outputs": [],
   "source": [
    "n = len(df)"
   ]
  },
  {
   "cell_type": "code",
   "execution_count": 3,
   "id": "0d990820",
   "metadata": {},
   "outputs": [],
   "source": [
    "import math\n",
    "import numpy as np\n",
    "\n",
    "mean = np.mean(list(df.iloc[:,0]))\n",
    "delta = 0.0001 # \n",
    "eps = (1/(2*n)* math.log(2/delta) )**(1/2)"
   ]
  },
  {
   "cell_type": "code",
   "execution_count": 4,
   "id": "6ec93e8e",
   "metadata": {},
   "outputs": [
    {
     "name": "stdout",
     "output_type": "stream",
     "text": [
      "0.527\n",
      "0.715\n"
     ]
    }
   ],
   "source": [
    "print(float(f'{mean-eps:.3f}'))\n",
    "print(float(f'{mean+eps:.3f}'))"
   ]
  },
  {
   "cell_type": "code",
   "execution_count": 5,
   "id": "49e60766",
   "metadata": {},
   "outputs": [
    {
     "data": {
      "text/plain": [
       "(0.5266332358430408, 0.7148694475201076)"
      ]
     },
     "execution_count": 5,
     "metadata": {},
     "output_type": "execute_result"
    }
   ],
   "source": [
    "mean-eps, mean+eps"
   ]
  },
  {
   "cell_type": "code",
   "execution_count": null,
   "id": "131c7b29",
   "metadata": {},
   "outputs": [],
   "source": []
  },
  {
   "cell_type": "markdown",
   "id": "d2404de6",
   "metadata": {},
   "source": [
    "# 2.2"
   ]
  },
  {
   "cell_type": "code",
   "execution_count": 6,
   "id": "10b48019",
   "metadata": {},
   "outputs": [
    {
     "name": "stdout",
     "output_type": "stream",
     "text": [
      "       0\n",
      "0    1.0\n",
      "1    1.0\n",
      "2    0.0\n",
      "3    0.0\n",
      "4    0.0\n",
      "..   ...\n",
      "392  1.0\n",
      "393  1.0\n",
      "394  1.0\n",
      "395  1.0\n",
      "396  1.0\n",
      "\n",
      "[397 rows x 1 columns]\n"
     ]
    }
   ],
   "source": [
    "import pandas as pd\n",
    "\n",
    "df = pd.read_csv ('U.csv', header=None)\n",
    "print (df)"
   ]
  },
  {
   "cell_type": "code",
   "execution_count": 7,
   "id": "938eb499",
   "metadata": {},
   "outputs": [],
   "source": [
    "n = len(df)"
   ]
  },
  {
   "cell_type": "code",
   "execution_count": 8,
   "id": "a9d01bd0",
   "metadata": {},
   "outputs": [],
   "source": [
    "import math\n",
    "import numpy as np\n",
    "\n",
    "mean = np.mean(list(df.iloc[:,0]))\n",
    "delta = 0.02 # \n",
    "eps = (1/(2*n)* math.log(2/delta) )**(1/2)"
   ]
  },
  {
   "cell_type": "code",
   "execution_count": 9,
   "id": "f734ea42",
   "metadata": {},
   "outputs": [
    {
     "data": {
      "text/plain": [
       "(0.7374445305772481, 0.8897594996494522)"
      ]
     },
     "execution_count": 9,
     "metadata": {},
     "output_type": "execute_result"
    }
   ],
   "source": [
    "mean-eps, mean+eps"
   ]
  },
  {
   "cell_type": "markdown",
   "id": "2949d77a",
   "metadata": {},
   "source": [
    "\n",
    "# 3.1 big and small\n"
   ]
  },
  {
   "cell_type": "code",
   "execution_count": 53,
   "id": "231955d5",
   "metadata": {},
   "outputs": [],
   "source": [
    "import math\n",
    "import numpy as np\n",
    "\n",
    "sa = 9000 #sa number training set of set A\n",
    "sb = 1000\n",
    "empE_ha_sb = 0.03\n",
    "empE_hb_sa = 0.06\n",
    "\n",
    "delta = 0.01 #95% confidence, 0.01 if I want 99%"
   ]
  },
  {
   "cell_type": "code",
   "execution_count": 54,
   "id": "4c93b876",
   "metadata": {},
   "outputs": [],
   "source": [
    "eps = (1/(2*sb)* math.log(2/delta) )**(1/2) "
   ]
  },
  {
   "cell_type": "code",
   "execution_count": 55,
   "id": "859ad9e3",
   "metadata": {},
   "outputs": [
    {
     "data": {
      "text/plain": [
       "0.09164779987778185"
      ]
     },
     "execution_count": 55,
     "metadata": {},
     "output_type": "execute_result"
    }
   ],
   "source": [
    "empE_ha_sb + eps"
   ]
  },
  {
   "cell_type": "code",
   "execution_count": 56,
   "id": "ee5e96d5",
   "metadata": {},
   "outputs": [],
   "source": [
    "# P(l(h) <= l(h, sa) + epsilon) >= 95%"
   ]
  },
  {
   "cell_type": "code",
   "execution_count": 57,
   "id": "620eb18f",
   "metadata": {},
   "outputs": [],
   "source": [
    "eps = (1/(2*sa)* math.log(2/delta) )**(1/2) "
   ]
  },
  {
   "cell_type": "code",
   "execution_count": 58,
   "id": "ea6cf3d0",
   "metadata": {},
   "outputs": [
    {
     "data": {
      "text/plain": [
       "0.08054926662592729"
      ]
     },
     "execution_count": 58,
     "metadata": {},
     "output_type": "execute_result"
    }
   ],
   "source": [
    "empE_hb_sa + eps"
   ]
  },
  {
   "cell_type": "code",
   "execution_count": 16,
   "id": "283000d8",
   "metadata": {},
   "outputs": [],
   "source": [
    "# P(l(h) <= l(h, sb) + epsilon) >= 95%"
   ]
  },
  {
   "cell_type": "code",
   "execution_count": null,
   "id": "97488b84",
   "metadata": {},
   "outputs": [],
   "source": []
  },
  {
   "cell_type": "code",
   "execution_count": null,
   "id": "1e1fd978",
   "metadata": {},
   "outputs": [],
   "source": []
  },
  {
   "cell_type": "code",
   "execution_count": null,
   "id": "1086babd",
   "metadata": {},
   "outputs": [],
   "source": []
  },
  {
   "cell_type": "code",
   "execution_count": null,
   "id": "27f612c3",
   "metadata": {},
   "outputs": [],
   "source": []
  },
  {
   "cell_type": "code",
   "execution_count": null,
   "id": "800185d3",
   "metadata": {},
   "outputs": [],
   "source": []
  },
  {
   "cell_type": "code",
   "execution_count": null,
   "id": "be6104a6",
   "metadata": {},
   "outputs": [],
   "source": []
  },
  {
   "cell_type": "code",
   "execution_count": null,
   "id": "e1fe48e6",
   "metadata": {},
   "outputs": [],
   "source": []
  },
  {
   "cell_type": "code",
   "execution_count": null,
   "id": "bb56d9ea",
   "metadata": {},
   "outputs": [],
   "source": []
  },
  {
   "cell_type": "code",
   "execution_count": null,
   "id": "f6b2a2ab",
   "metadata": {},
   "outputs": [],
   "source": []
  },
  {
   "cell_type": "code",
   "execution_count": null,
   "id": "6d138b94",
   "metadata": {},
   "outputs": [],
   "source": []
  },
  {
   "cell_type": "code",
   "execution_count": null,
   "id": "68d3cb89",
   "metadata": {},
   "outputs": [],
   "source": []
  },
  {
   "cell_type": "code",
   "execution_count": null,
   "id": "66ed6a23",
   "metadata": {},
   "outputs": [],
   "source": []
  }
 ],
 "metadata": {
  "kernelspec": {
   "display_name": "Python 3 (ipykernel)",
   "language": "python",
   "name": "python3"
  },
  "language_info": {
   "codemirror_mode": {
    "name": "ipython",
    "version": 3
   },
   "file_extension": ".py",
   "mimetype": "text/x-python",
   "name": "python",
   "nbconvert_exporter": "python",
   "pygments_lexer": "ipython3",
   "version": "3.10.5"
  }
 },
 "nbformat": 4,
 "nbformat_minor": 5
}
