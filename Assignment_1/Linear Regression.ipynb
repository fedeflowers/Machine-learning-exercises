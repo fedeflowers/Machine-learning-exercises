{
 "cells": [
  {
   "cell_type": "code",
   "execution_count": 11,
   "id": "bda1ed97",
   "metadata": {},
   "outputs": [],
   "source": [
    "import pandas as pd\n",
    "  \n",
    "# Read a text file to a dataframe using colon delimiters\n",
    "fish_data =  pd.read_csv('PCB.dt', sep='\\t', engine='python')"
   ]
  },
  {
   "cell_type": "code",
   "execution_count": 12,
   "id": "39501c1b",
   "metadata": {},
   "outputs": [
    {
     "data": {
      "text/html": [
       "<div>\n",
       "<style scoped>\n",
       "    .dataframe tbody tr th:only-of-type {\n",
       "        vertical-align: middle;\n",
       "    }\n",
       "\n",
       "    .dataframe tbody tr th {\n",
       "        vertical-align: top;\n",
       "    }\n",
       "\n",
       "    .dataframe thead th {\n",
       "        text-align: right;\n",
       "    }\n",
       "</style>\n",
       "<table border=\"1\" class=\"dataframe\">\n",
       "  <thead>\n",
       "    <tr style=\"text-align: right;\">\n",
       "      <th></th>\n",
       "      <th>year</th>\n",
       "      <th>PCB</th>\n",
       "    </tr>\n",
       "  </thead>\n",
       "  <tbody>\n",
       "    <tr>\n",
       "      <th>0</th>\n",
       "      <td>1</td>\n",
       "      <td>0.6</td>\n",
       "    </tr>\n",
       "    <tr>\n",
       "      <th>1</th>\n",
       "      <td>6</td>\n",
       "      <td>3.4</td>\n",
       "    </tr>\n",
       "    <tr>\n",
       "      <th>2</th>\n",
       "      <td>1</td>\n",
       "      <td>1.6</td>\n",
       "    </tr>\n",
       "    <tr>\n",
       "      <th>3</th>\n",
       "      <td>6</td>\n",
       "      <td>9.7</td>\n",
       "    </tr>\n",
       "    <tr>\n",
       "      <th>4</th>\n",
       "      <td>1</td>\n",
       "      <td>0.5</td>\n",
       "    </tr>\n",
       "    <tr>\n",
       "      <th>5</th>\n",
       "      <td>6</td>\n",
       "      <td>8.6</td>\n",
       "    </tr>\n",
       "    <tr>\n",
       "      <th>6</th>\n",
       "      <td>1</td>\n",
       "      <td>1.2</td>\n",
       "    </tr>\n",
       "    <tr>\n",
       "      <th>7</th>\n",
       "      <td>7</td>\n",
       "      <td>4.0</td>\n",
       "    </tr>\n",
       "    <tr>\n",
       "      <th>8</th>\n",
       "      <td>2</td>\n",
       "      <td>2.0</td>\n",
       "    </tr>\n",
       "    <tr>\n",
       "      <th>9</th>\n",
       "      <td>7</td>\n",
       "      <td>5.5</td>\n",
       "    </tr>\n",
       "    <tr>\n",
       "      <th>10</th>\n",
       "      <td>2</td>\n",
       "      <td>1.3</td>\n",
       "    </tr>\n",
       "    <tr>\n",
       "      <th>11</th>\n",
       "      <td>7</td>\n",
       "      <td>10.5</td>\n",
       "    </tr>\n",
       "    <tr>\n",
       "      <th>12</th>\n",
       "      <td>2</td>\n",
       "      <td>2.5</td>\n",
       "    </tr>\n",
       "    <tr>\n",
       "      <th>13</th>\n",
       "      <td>8</td>\n",
       "      <td>17.5</td>\n",
       "    </tr>\n",
       "    <tr>\n",
       "      <th>14</th>\n",
       "      <td>3</td>\n",
       "      <td>2.2</td>\n",
       "    </tr>\n",
       "    <tr>\n",
       "      <th>15</th>\n",
       "      <td>8</td>\n",
       "      <td>13.4</td>\n",
       "    </tr>\n",
       "    <tr>\n",
       "      <th>16</th>\n",
       "      <td>3</td>\n",
       "      <td>2.4</td>\n",
       "    </tr>\n",
       "    <tr>\n",
       "      <th>17</th>\n",
       "      <td>8</td>\n",
       "      <td>4.5</td>\n",
       "    </tr>\n",
       "    <tr>\n",
       "      <th>18</th>\n",
       "      <td>3</td>\n",
       "      <td>1.2</td>\n",
       "    </tr>\n",
       "    <tr>\n",
       "      <th>19</th>\n",
       "      <td>9</td>\n",
       "      <td>30.4</td>\n",
       "    </tr>\n",
       "    <tr>\n",
       "      <th>20</th>\n",
       "      <td>4</td>\n",
       "      <td>3.5</td>\n",
       "    </tr>\n",
       "    <tr>\n",
       "      <th>21</th>\n",
       "      <td>11</td>\n",
       "      <td>12.4</td>\n",
       "    </tr>\n",
       "    <tr>\n",
       "      <th>22</th>\n",
       "      <td>4</td>\n",
       "      <td>4.1</td>\n",
       "    </tr>\n",
       "    <tr>\n",
       "      <th>23</th>\n",
       "      <td>12</td>\n",
       "      <td>13.4</td>\n",
       "    </tr>\n",
       "    <tr>\n",
       "      <th>24</th>\n",
       "      <td>4</td>\n",
       "      <td>5.1</td>\n",
       "    </tr>\n",
       "    <tr>\n",
       "      <th>25</th>\n",
       "      <td>12</td>\n",
       "      <td>26.2</td>\n",
       "    </tr>\n",
       "    <tr>\n",
       "      <th>26</th>\n",
       "      <td>5</td>\n",
       "      <td>5.7</td>\n",
       "    </tr>\n",
       "    <tr>\n",
       "      <th>27</th>\n",
       "      <td>12</td>\n",
       "      <td>7.4</td>\n",
       "    </tr>\n",
       "  </tbody>\n",
       "</table>\n",
       "</div>"
      ],
      "text/plain": [
       "    year   PCB\n",
       "0      1   0.6\n",
       "1      6   3.4\n",
       "2      1   1.6\n",
       "3      6   9.7\n",
       "4      1   0.5\n",
       "5      6   8.6\n",
       "6      1   1.2\n",
       "7      7   4.0\n",
       "8      2   2.0\n",
       "9      7   5.5\n",
       "10     2   1.3\n",
       "11     7  10.5\n",
       "12     2   2.5\n",
       "13     8  17.5\n",
       "14     3   2.2\n",
       "15     8  13.4\n",
       "16     3   2.4\n",
       "17     8   4.5\n",
       "18     3   1.2\n",
       "19     9  30.4\n",
       "20     4   3.5\n",
       "21    11  12.4\n",
       "22     4   4.1\n",
       "23    12  13.4\n",
       "24     4   5.1\n",
       "25    12  26.2\n",
       "26     5   5.7\n",
       "27    12   7.4"
      ]
     },
     "execution_count": 12,
     "metadata": {},
     "output_type": "execute_result"
    }
   ],
   "source": [
    "fish_data"
   ]
  },
  {
   "cell_type": "code",
   "execution_count": 16,
   "id": "ed1462bc",
   "metadata": {},
   "outputs": [
    {
     "data": {
      "text/html": [
       "<div>\n",
       "<style scoped>\n",
       "    .dataframe tbody tr th:only-of-type {\n",
       "        vertical-align: middle;\n",
       "    }\n",
       "\n",
       "    .dataframe tbody tr th {\n",
       "        vertical-align: top;\n",
       "    }\n",
       "\n",
       "    .dataframe thead th {\n",
       "        text-align: right;\n",
       "    }\n",
       "</style>\n",
       "<table border=\"1\" class=\"dataframe\">\n",
       "  <thead>\n",
       "    <tr style=\"text-align: right;\">\n",
       "      <th></th>\n",
       "      <th>year</th>\n",
       "      <th>PCB_log</th>\n",
       "    </tr>\n",
       "  </thead>\n",
       "  <tbody>\n",
       "    <tr>\n",
       "      <th>0</th>\n",
       "      <td>1</td>\n",
       "      <td>-0.510826</td>\n",
       "    </tr>\n",
       "    <tr>\n",
       "      <th>1</th>\n",
       "      <td>6</td>\n",
       "      <td>1.223775</td>\n",
       "    </tr>\n",
       "    <tr>\n",
       "      <th>2</th>\n",
       "      <td>1</td>\n",
       "      <td>0.470004</td>\n",
       "    </tr>\n",
       "    <tr>\n",
       "      <th>3</th>\n",
       "      <td>6</td>\n",
       "      <td>2.272126</td>\n",
       "    </tr>\n",
       "    <tr>\n",
       "      <th>4</th>\n",
       "      <td>1</td>\n",
       "      <td>-0.693147</td>\n",
       "    </tr>\n",
       "    <tr>\n",
       "      <th>5</th>\n",
       "      <td>6</td>\n",
       "      <td>2.151762</td>\n",
       "    </tr>\n",
       "    <tr>\n",
       "      <th>6</th>\n",
       "      <td>1</td>\n",
       "      <td>0.182322</td>\n",
       "    </tr>\n",
       "    <tr>\n",
       "      <th>7</th>\n",
       "      <td>7</td>\n",
       "      <td>1.386294</td>\n",
       "    </tr>\n",
       "    <tr>\n",
       "      <th>8</th>\n",
       "      <td>2</td>\n",
       "      <td>0.693147</td>\n",
       "    </tr>\n",
       "    <tr>\n",
       "      <th>9</th>\n",
       "      <td>7</td>\n",
       "      <td>1.704748</td>\n",
       "    </tr>\n",
       "    <tr>\n",
       "      <th>10</th>\n",
       "      <td>2</td>\n",
       "      <td>0.262364</td>\n",
       "    </tr>\n",
       "    <tr>\n",
       "      <th>11</th>\n",
       "      <td>7</td>\n",
       "      <td>2.351375</td>\n",
       "    </tr>\n",
       "    <tr>\n",
       "      <th>12</th>\n",
       "      <td>2</td>\n",
       "      <td>0.916291</td>\n",
       "    </tr>\n",
       "    <tr>\n",
       "      <th>13</th>\n",
       "      <td>8</td>\n",
       "      <td>2.862201</td>\n",
       "    </tr>\n",
       "    <tr>\n",
       "      <th>14</th>\n",
       "      <td>3</td>\n",
       "      <td>0.788457</td>\n",
       "    </tr>\n",
       "    <tr>\n",
       "      <th>15</th>\n",
       "      <td>8</td>\n",
       "      <td>2.595255</td>\n",
       "    </tr>\n",
       "    <tr>\n",
       "      <th>16</th>\n",
       "      <td>3</td>\n",
       "      <td>0.875469</td>\n",
       "    </tr>\n",
       "    <tr>\n",
       "      <th>17</th>\n",
       "      <td>8</td>\n",
       "      <td>1.504077</td>\n",
       "    </tr>\n",
       "    <tr>\n",
       "      <th>18</th>\n",
       "      <td>3</td>\n",
       "      <td>0.182322</td>\n",
       "    </tr>\n",
       "    <tr>\n",
       "      <th>19</th>\n",
       "      <td>9</td>\n",
       "      <td>3.414443</td>\n",
       "    </tr>\n",
       "    <tr>\n",
       "      <th>20</th>\n",
       "      <td>4</td>\n",
       "      <td>1.252763</td>\n",
       "    </tr>\n",
       "    <tr>\n",
       "      <th>21</th>\n",
       "      <td>11</td>\n",
       "      <td>2.517696</td>\n",
       "    </tr>\n",
       "    <tr>\n",
       "      <th>22</th>\n",
       "      <td>4</td>\n",
       "      <td>1.410987</td>\n",
       "    </tr>\n",
       "    <tr>\n",
       "      <th>23</th>\n",
       "      <td>12</td>\n",
       "      <td>2.595255</td>\n",
       "    </tr>\n",
       "    <tr>\n",
       "      <th>24</th>\n",
       "      <td>4</td>\n",
       "      <td>1.629241</td>\n",
       "    </tr>\n",
       "    <tr>\n",
       "      <th>25</th>\n",
       "      <td>12</td>\n",
       "      <td>3.265759</td>\n",
       "    </tr>\n",
       "    <tr>\n",
       "      <th>26</th>\n",
       "      <td>5</td>\n",
       "      <td>1.740466</td>\n",
       "    </tr>\n",
       "    <tr>\n",
       "      <th>27</th>\n",
       "      <td>12</td>\n",
       "      <td>2.001480</td>\n",
       "    </tr>\n",
       "  </tbody>\n",
       "</table>\n",
       "</div>"
      ],
      "text/plain": [
       "    year   PCB_log\n",
       "0      1 -0.510826\n",
       "1      6  1.223775\n",
       "2      1  0.470004\n",
       "3      6  2.272126\n",
       "4      1 -0.693147\n",
       "5      6  2.151762\n",
       "6      1  0.182322\n",
       "7      7  1.386294\n",
       "8      2  0.693147\n",
       "9      7  1.704748\n",
       "10     2  0.262364\n",
       "11     7  2.351375\n",
       "12     2  0.916291\n",
       "13     8  2.862201\n",
       "14     3  0.788457\n",
       "15     8  2.595255\n",
       "16     3  0.875469\n",
       "17     8  1.504077\n",
       "18     3  0.182322\n",
       "19     9  3.414443\n",
       "20     4  1.252763\n",
       "21    11  2.517696\n",
       "22     4  1.410987\n",
       "23    12  2.595255\n",
       "24     4  1.629241\n",
       "25    12  3.265759\n",
       "26     5  1.740466\n",
       "27    12  2.001480"
      ]
     },
     "execution_count": 16,
     "metadata": {},
     "output_type": "execute_result"
    }
   ],
   "source": [
    "#apply natural log\n",
    "import numpy as np\n",
    "\n",
    "fish_log = {}\n",
    "fish_log['year'] = fish_data.loc[:,\"year\"]\n",
    "fish_log['PCB_log'] = np.log(fish_data.loc[:,\"PCB\"])\n",
    "\n",
    "df = pd.DataFrame(fish_log)\n",
    "df"
   ]
  },
  {
   "cell_type": "code",
   "execution_count": 44,
   "id": "eec1b784",
   "metadata": {},
   "outputs": [
    {
     "data": {
      "text/plain": [
       "matrix([[ 1,  1],\n",
       "        [ 6,  1],\n",
       "        [ 1,  1],\n",
       "        [ 6,  1],\n",
       "        [ 1,  1],\n",
       "        [ 6,  1],\n",
       "        [ 1,  1],\n",
       "        [ 7,  1],\n",
       "        [ 2,  1],\n",
       "        [ 7,  1],\n",
       "        [ 2,  1],\n",
       "        [ 7,  1],\n",
       "        [ 2,  1],\n",
       "        [ 8,  1],\n",
       "        [ 3,  1],\n",
       "        [ 8,  1],\n",
       "        [ 3,  1],\n",
       "        [ 8,  1],\n",
       "        [ 3,  1],\n",
       "        [ 9,  1],\n",
       "        [ 4,  1],\n",
       "        [11,  1],\n",
       "        [ 4,  1],\n",
       "        [12,  1],\n",
       "        [ 4,  1],\n",
       "        [12,  1],\n",
       "        [ 5,  1],\n",
       "        [12,  1]])"
      ]
     },
     "execution_count": 44,
     "metadata": {},
     "output_type": "execute_result"
    }
   ],
   "source": [
    "#(X^T * X)^-1\n",
    "#create X tilde in order to also integrate b and not just a\n",
    "\n",
    "X = np.matrix([(x,1) for x in df.loc[:,\"year\"]])\n",
    "X"
   ]
  },
  {
   "cell_type": "code",
   "execution_count": 47,
   "id": "ffe560e9",
   "metadata": {},
   "outputs": [
    {
     "data": {
      "text/plain": [
       "array([-0.51082562,  1.22377543,  0.47000363,  2.27212589, -0.69314718,\n",
       "        2.1517622 ,  0.18232156,  1.38629436,  0.69314718,  1.70474809,\n",
       "        0.26236426,  2.35137526,  0.91629073,  2.86220088,  0.78845736,\n",
       "        2.59525471,  0.87546874,  1.5040774 ,  0.18232156,  3.41444261,\n",
       "        1.25276297,  2.51769647,  1.41098697,  2.59525471,  1.62924054,\n",
       "        3.26575941,  1.74046617,  2.00148   ])"
      ]
     },
     "execution_count": 47,
     "metadata": {},
     "output_type": "execute_result"
    }
   ],
   "source": [
    "y = np.array(df.loc[:,\"PCB_log\"])\n",
    "y"
   ]
  },
  {
   "cell_type": "code",
   "execution_count": 40,
   "id": "b546570d",
   "metadata": {},
   "outputs": [],
   "source": [
    "X_inverted = np.linalg.inv(np.dot(X.T, X)) #np.dot =(constant)"
   ]
  },
  {
   "cell_type": "code",
   "execution_count": 51,
   "id": "e9c0132a",
   "metadata": {},
   "outputs": [],
   "source": [
    "w_star = np.dot(np.dot(X_inverted, X.T),y)"
   ]
  },
  {
   "cell_type": "code",
   "execution_count": 106,
   "id": "39001057",
   "metadata": {},
   "outputs": [
    {
     "data": {
      "text/plain": [
       "(0.2591282395640714, 0.031472469714475815)"
      ]
     },
     "execution_count": 106,
     "metadata": {},
     "output_type": "execute_result"
    }
   ],
   "source": [
    "#parameters of regression model\n",
    "a = np.array(w_star)[0][0]\n",
    "b = np.array(w_star)[0][1]\n",
    "a,b"
   ]
  },
  {
   "cell_type": "code",
   "execution_count": 63,
   "id": "e0ddfdbf",
   "metadata": {},
   "outputs": [],
   "source": [
    "import math\n",
    "def non_linear_model(x, a, b): #x = what you want to be predicted, a,b = paramenters of linear model\n",
    "    linear_pred = a * x + b\n",
    "    return math.exp(linear_pred)"
   ]
  },
  {
   "cell_type": "code",
   "execution_count": 67,
   "id": "95bb22d7",
   "metadata": {},
   "outputs": [],
   "source": [
    "X = np.array(fish_data['year'])\n",
    "Y = np.array(fish_data['PCB'])"
   ]
  },
  {
   "cell_type": "code",
   "execution_count": 72,
   "id": "54005a2c",
   "metadata": {},
   "outputs": [
    {
     "data": {
      "text/plain": [
       "34.83556116722035"
      ]
     },
     "execution_count": 72,
     "metadata": {},
     "output_type": "execute_result"
    }
   ],
   "source": [
    "#mean_squared_error \n",
    "summ = 0\n",
    "for i in range(len(X)):\n",
    "    summ += math.pow((Y[i] - non_linear_model(X[i], a, b)) , 2)\n",
    "    \n",
    "mean_squared_error = summ/len(X)\n",
    "mean_squared_error"
   ]
  },
  {
   "cell_type": "code",
   "execution_count": 194,
   "id": "e86cd757",
   "metadata": {},
   "outputs": [],
   "source": [
    "not_trasformed_years = np.array(df.loc[:,\"year\"])\n",
    "predictions = np.array([np.log(non_linear_model(x,a,b)) for x in not_trasformed_years])\n",
    "log_PCB = np.array(fish_log['PCB_log'])"
   ]
  },
  {
   "cell_type": "code",
   "execution_count": 195,
   "id": "3e4259d6",
   "metadata": {},
   "outputs": [
    {
     "data": {
      "text/plain": [
       "array([3.85547914e-03, 5.99688699e+00, 3.85547914e-03, 5.99688699e+00,\n",
       "       3.85547914e-03, 5.99688699e+00, 3.85547914e-03, 7.19549330e+00,\n",
       "       1.20246178e+00, 7.19549330e+00, 1.20246178e+00, 7.19549330e+00,\n",
       "       1.20246178e+00, 8.39409960e+00, 2.40106808e+00, 8.39409960e+00,\n",
       "       2.40106808e+00, 8.39409960e+00, 2.40106808e+00, 9.59270590e+00,\n",
       "       3.59967439e+00, 1.19899185e+01, 3.59967439e+00, 1.31885248e+01,\n",
       "       3.59967439e+00, 1.31885248e+01, 4.79828069e+00, 1.31885248e+01])"
      ]
     },
     "execution_count": 195,
     "metadata": {},
     "output_type": "execute_result"
    }
   ],
   "source": [
    "predictions"
   ]
  },
  {
   "cell_type": "code",
   "execution_count": 197,
   "id": "faf180fd",
   "metadata": {},
   "outputs": [
    {
     "data": {
      "text/plain": [
       "Text(0.5, 0, 'years')"
      ]
     },
     "execution_count": 197,
     "metadata": {},
     "output_type": "execute_result"
    },
    {
     "data": {
      "image/png": "[encoded data removed]",
      "text/plain": [
       "<Figure size 1152x720 with 1 Axes>"
      ]
     },
     "metadata": {
      "needs_background": "light"
     },
     "output_type": "display_data"
    }
   ],
   "source": [
    "import matplotlib.pyplot as plt\n",
    "\n",
    "#plot 1:\n",
    "plt.figure(figsize=(16, 10))\n",
    "plt.subplot(2, 2, 1)\n",
    "plt.scatter(not_trasformed_years, predictions, c = \"aqua\", linewidths = 1, marker =\"^\", edgecolor =\"brown\", s = 100)\n",
    "plt.title(\"Model predictions\")\n",
    "plt.ylabel(\"model prediction of PCB, log scale\")\n",
    "plt.xlabel(\"years\")\n"
   ]
  },
  {
   "cell_type": "code",
   "execution_count": 102,
   "id": "02ab6121",
   "metadata": {},
   "outputs": [
    {
     "data": {
      "text/plain": [
       "1516.9771428571423"
      ]
     },
     "execution_count": 102,
     "metadata": {},
     "output_type": "execute_result"
    }
   ],
   "source": [
    "result = 0\n",
    "mean_traning_labels = np.mean(Y)\n",
    "for y in Y:\n",
    "    result += math.pow(y - mean_traning_labels, 2)"
   ]
  },
  {
   "cell_type": "code",
   "execution_count": 103,
   "id": "389bb99e",
   "metadata": {},
   "outputs": [
    {
     "data": {
      "text/plain": [
       "0.3570135731609865"
      ]
     },
     "execution_count": 103,
     "metadata": {},
     "output_type": "execute_result"
    }
   ],
   "source": [
    "#coefficient of determination R2\n",
    "\n",
    "R2 = 1 - (summ / result) \n",
    "R2"
   ]
  },
  {
   "cell_type": "markdown",
   "id": "4bbcba19",
   "metadata": {},
   "source": [
    "# Second model, input transformation"
   ]
  },
  {
   "cell_type": "code",
   "execution_count": 169,
   "id": "9e6fd1a7",
   "metadata": {},
   "outputs": [
    {
     "data": {
      "text/plain": [
       "matrix([[1.        , 1.        ],\n",
       "        [2.44948974, 1.        ],\n",
       "        [1.        , 1.        ],\n",
       "        [2.44948974, 1.        ],\n",
       "        [1.        , 1.        ],\n",
       "        [2.44948974, 1.        ],\n",
       "        [1.        , 1.        ],\n",
       "        [2.64575131, 1.        ],\n",
       "        [1.41421356, 1.        ],\n",
       "        [2.64575131, 1.        ],\n",
       "        [1.41421356, 1.        ],\n",
       "        [2.64575131, 1.        ],\n",
       "        [1.41421356, 1.        ],\n",
       "        [2.82842712, 1.        ],\n",
       "        [1.73205081, 1.        ],\n",
       "        [2.82842712, 1.        ],\n",
       "        [1.73205081, 1.        ],\n",
       "        [2.82842712, 1.        ],\n",
       "        [1.73205081, 1.        ],\n",
       "        [3.        , 1.        ],\n",
       "        [2.        , 1.        ],\n",
       "        [3.31662479, 1.        ],\n",
       "        [2.        , 1.        ],\n",
       "        [3.46410162, 1.        ],\n",
       "        [2.        , 1.        ],\n",
       "        [3.46410162, 1.        ],\n",
       "        [2.23606798, 1.        ],\n",
       "        [3.46410162, 1.        ]])"
      ]
     },
     "execution_count": 169,
     "metadata": {},
     "output_type": "execute_result"
    }
   ],
   "source": [
    "X = np.matrix([(x**(1/2),1) for x in df.loc[:,\"year\"]])\n",
    "X"
   ]
  },
  {
   "cell_type": "code",
   "execution_count": 170,
   "id": "42093d85",
   "metadata": {},
   "outputs": [
    {
     "data": {
      "text/plain": [
       "array([-0.51082562,  1.22377543,  0.47000363,  2.27212589, -0.69314718,\n",
       "        2.1517622 ,  0.18232156,  1.38629436,  0.69314718,  1.70474809,\n",
       "        0.26236426,  2.35137526,  0.91629073,  2.86220088,  0.78845736,\n",
       "        2.59525471,  0.87546874,  1.5040774 ,  0.18232156,  3.41444261,\n",
       "        1.25276297,  2.51769647,  1.41098697,  2.59525471,  1.62924054,\n",
       "        3.26575941,  1.74046617,  2.00148   ])"
      ]
     },
     "execution_count": 170,
     "metadata": {},
     "output_type": "execute_result"
    }
   ],
   "source": [
    "Y = np.array(np.log(fish_data.loc[:,\"PCB\"]))\n",
    "Y"
   ]
  },
  {
   "cell_type": "code",
   "execution_count": 171,
   "id": "15bdfc84",
   "metadata": {},
   "outputs": [
    {
     "data": {
      "text/plain": [
       "(1.1986063028078175, -1.1947508236636466)"
      ]
     },
     "execution_count": 171,
     "metadata": {},
     "output_type": "execute_result"
    }
   ],
   "source": [
    "X_inverted = np.linalg.inv(np.dot(X.T, X)) #np.dot =(constant)\n",
    "w_star = np.dot(np.dot(X_inverted, X.T),Y)\n",
    "#parameters of regression model\n",
    "a = np.array(w_star)[0][0]\n",
    "b = np.array(w_star)[0][1]\n",
    "a,b"
   ]
  },
  {
   "cell_type": "code",
   "execution_count": null,
   "id": "02f729b8",
   "metadata": {},
   "outputs": [],
   "source": [
    "def second_model(x, a, b): #x = what you want to be predicted, a,b = paramenters of linear model\n",
    "    linear_pred = a * x + b\n",
    "    return math.exp(linear_pred)"
   ]
  },
  {
   "cell_type": "code",
   "execution_count": 175,
   "id": "e50522ed",
   "metadata": {},
   "outputs": [],
   "source": [
    "X = np.array([x**(1/2) for x in df.loc[:,\"year\"]])\n",
    "Y_label = np.array(fish_data.loc[:,\"PCB\"])"
   ]
  },
  {
   "cell_type": "code",
   "execution_count": 176,
   "id": "eca83a93",
   "metadata": {},
   "outputs": [
    {
     "data": {
      "text/plain": [
       "28.084390174944378"
      ]
     },
     "execution_count": 176,
     "metadata": {},
     "output_type": "execute_result"
    }
   ],
   "source": [
    "#mean_squared_error \n",
    "summ = 0\n",
    "for i in range(len(X)):\n",
    "    summ += math.pow((Y_label[i] - non_linear_model(X[i], a, b)) , 2)\n",
    "    \n",
    "mean_squared_error = summ/len(X)\n",
    "mean_squared_error"
   ]
  },
  {
   "cell_type": "code",
   "execution_count": 183,
   "id": "86a1dff6",
   "metadata": {},
   "outputs": [],
   "source": [
    "#Then plot the target(on logarithmic scale) and the model output over the original inputs (linearscale). That is, the unit of the x-axis should be years.\n",
    "target = np.array(np.log(fish_data.loc[:,\"PCB\"]))\n",
    "linear_X = np.array([x for x in df.loc[:,\"year\"]])\n",
    "predicted_linear = np.array([np.log(non_linear_model(x, a, b)) for x in linear_X])"
   ]
  },
  {
   "cell_type": "code",
   "execution_count": 185,
   "id": "59eeebe3",
   "metadata": {},
   "outputs": [
    {
     "data": {
      "text/plain": [
       "Text(0.5, 0, 'years')"
      ]
     },
     "execution_count": 185,
     "metadata": {},
     "output_type": "execute_result"
    },
    {
     "data": {
      "image/png": "[encoded data removed]",
      "text/plain": [
       "<Figure size 1152x720 with 1 Axes>"
      ]
     },
     "metadata": {
      "needs_background": "light"
     },
     "output_type": "display_data"
    }
   ],
   "source": [
    "import matplotlib.pyplot as plt\n",
    "\n",
    "#plot 1:\n",
    "plt.figure(figsize=(16, 10))\n",
    "plt.subplot(2, 2, 1)\n",
    "plt.scatter(linear_X, predicted_linear, c = \"aqua\", linewidths = 1, marker =\"^\", edgecolor =\"brown\", s = 100)\n",
    "plt.title(\"Model predictions\")\n",
    "plt.ylabel(\"model prediction of PCB on linear input, log scale\")\n",
    "plt.xlabel(\"years\")"
   ]
  },
  {
   "cell_type": "code",
   "execution_count": 190,
   "id": "d3b20810",
   "metadata": {},
   "outputs": [
    {
     "data": {
      "text/plain": [
       "0.4816250669292409"
      ]
     },
     "execution_count": 190,
     "metadata": {},
     "output_type": "execute_result"
    }
   ],
   "source": [
    "#coefficient of determination R2\n",
    "#mean_squared_error \n",
    "\n",
    "result = 0\n",
    "mean_traning_labels = np.mean(Y_label)\n",
    "for y in Y_label:\n",
    "    result += math.pow(y - mean_traning_labels, 2)\n",
    "R2 = 1 - (summ / result) \n",
    "R2"
   ]
  },
  {
   "cell_type": "code",
   "execution_count": null,
   "id": "f2d90132",
   "metadata": {},
   "outputs": [],
   "source": []
  }
 ],
 "metadata": {
  "kernelspec": {
   "display_name": "Python 3 (ipykernel)",
   "language": "python",
   "name": "python3"
  },
  "language_info": {
   "codemirror_mode": {
    "name": "ipython",
    "version": 3
   },
   "file_extension": ".py",
   "mimetype": "text/x-python",
   "name": "python",
   "nbconvert_exporter": "python",
   "pygments_lexer": "ipython3",
   "version": "3.10.5"
  }
 },
 "nbformat": 4,
 "nbformat_minor": 5
}
