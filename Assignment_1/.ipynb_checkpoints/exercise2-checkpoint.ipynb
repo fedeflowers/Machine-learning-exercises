{
 "cells": [
  {
   "cell_type": "code",
   "execution_count": 1,
   "id": "06fd9ff8",
   "metadata": {},
   "outputs": [],
   "source": [
    "import numpy as np\n",
    "import matplotlib.colors as cm\n",
    "import matplotlib.pyplot as plt\n",
    "from scipy import ndimage"
   ]
  },
  {
   "cell_type": "code",
   "execution_count": 2,
   "id": "f0e5d3f4",
   "metadata": {},
   "outputs": [],
   "source": [
    "def visualize_number(file, column):\n",
    "    f = open(file, \"r\")\n",
    "    fileR = f.read()\n",
    "    file_splitted = np.array(fileR.split(\" \"))\n",
    "    col = file_splitted[784 * (column-1):784* column]\n",
    "    converted_col = [float(x) for x in col]\n",
    "    converted_col = np.array(converted_col).reshape(28, 28)\n",
    "    plt.imshow(converted_col, 'gray', cm.NoNorm(), origin=\"lower\")"
   ]
  },
  {
   "cell_type": "code",
   "execution_count": 3,
   "id": "176e5467",
   "metadata": {},
   "outputs": [
    {
     "data": {
      "image/png": "[encoded data removed]",
      "text/plain": [
       "<Figure size 432x288 with 1 Axes>"
      ]
     },
     "metadata": {
      "needs_background": "light"
     },
     "output_type": "display_data"
    }
   ],
   "source": [
    "visualize_number(\"MNIST-5-6-Subset.txt\", 127)"
   ]
  },
  {
   "cell_type": "code",
   "execution_count": 4,
   "id": "e9095770",
   "metadata": {},
   "outputs": [
    {
     "data": {
      "image/png": "[encoded data removed]",
      "text/plain": [
       "<Figure size 432x288 with 1 Axes>"
      ]
     },
     "metadata": {
      "needs_background": "light"
     },
     "output_type": "display_data"
    }
   ],
   "source": [
    "visualize_number(\"MNIST-5-6-Subset-Light-Corruption.txt\", 127)"
   ]
  },
  {
   "cell_type": "code",
   "execution_count": 5,
   "id": "6c410c86",
   "metadata": {},
   "outputs": [
    {
     "data": {
      "image/png": "[encoded data removed]",
      "text/plain": [
       "<Figure size 432x288 with 1 Axes>"
      ]
     },
     "metadata": {
      "needs_background": "light"
     },
     "output_type": "display_data"
    }
   ],
   "source": [
    "visualize_number(\"MNIST-5-6-Subset-Moderate-Corruption.txt\", 127)"
   ]
  },
  {
   "cell_type": "code",
   "execution_count": 6,
   "id": "5f72cd62",
   "metadata": {},
   "outputs": [
    {
     "data": {
      "image/png": "[encoded data removed]",
      "text/plain": [
       "<Figure size 432x288 with 1 Axes>"
      ]
     },
     "metadata": {
      "needs_background": "light"
     },
     "output_type": "display_data"
    }
   ],
   "source": [
    "visualize_number(\"MNIST-5-6-Subset-Heavy-Corruption.txt\", 127)"
   ]
  },
  {
   "cell_type": "markdown",
   "id": "bd578908",
   "metadata": {},
   "source": [
    "### Take the labels and associate them to the images"
   ]
  },
  {
   "cell_type": "code",
   "execution_count": 7,
   "id": "d8416a8f",
   "metadata": {},
   "outputs": [],
   "source": [
    "labels_file = open('MNIST-5-6-Subset-Labels.txt', 'r')\n",
    "labels = np.array(labels_file.read().split(\" \")[:1877])"
   ]
  },
  {
   "cell_type": "code",
   "execution_count": 9,
   "id": "9803514d",
   "metadata": {},
   "outputs": [
    {
     "name": "stderr",
     "output_type": "stream",
     "text": [
      "100%|████████████████████████████████████████████████████████████████████████████| 1876/1876 [00:00<00:00, 2521.45it/s]\n"
     ]
    }
   ],
   "source": [
    "#format images\n",
    "from tqdm import tqdm  \n",
    "results = []\n",
    "f = open('MNIST-5-6-Subset.txt', \"r\")\n",
    "fileR = f.read()\n",
    "file_splitted = np.array(fileR.split(\" \"))\n",
    "for column in tqdm(range(1876)):\n",
    "    col = file_splitted[784 * (column):784* (column+1)]\n",
    "    converted_col = [float(x) for x in col]\n",
    "    converted_col = np.array(converted_col)\n",
    "    results.append(converted_col)"
   ]
  },
  {
   "cell_type": "code",
   "execution_count": 10,
   "id": "3eeb667d",
   "metadata": {},
   "outputs": [],
   "source": [
    "col = file_splitted[784 * (1876):784* (1876+1)]\n",
    "converted_col = [float(x) for x in col]\n",
    "converted_col = np.array(converted_col).reshape(28, 28)\n",
    "results.append(converted_col)"
   ]
  },
  {
   "cell_type": "code",
   "execution_count": 11,
   "id": "0bf18dc8",
   "metadata": {},
   "outputs": [],
   "source": [
    "dataset = [(results[i], labels[i])for i in range(1877)]"
   ]
  },
  {
   "cell_type": "code",
   "execution_count": 12,
   "id": "aea56004",
   "metadata": {},
   "outputs": [
    {
     "data": {
      "text/plain": [
       "'5'"
      ]
     },
     "execution_count": 12,
     "metadata": {},
     "output_type": "execute_result"
    },
    {
     "data": {
      "image/png": "[encoded data removed]",
      "text/plain": [
       "<Figure size 432x288 with 1 Axes>"
      ]
     },
     "metadata": {
      "needs_background": "light"
     },
     "output_type": "display_data"
    }
   ],
   "source": [
    "#visualization\n",
    "plt.imshow(dataset[101][0].reshape(28, 28), 'gray', cm.NoNorm(), origin=\"lower\")\n",
    "dataset[101][1]#label"
   ]
  },
  {
   "cell_type": "markdown",
   "id": "5f578c8c",
   "metadata": {},
   "source": [
    "### KNN"
   ]
  },
  {
   "cell_type": "code",
   "execution_count": 13,
   "id": "6458f727",
   "metadata": {},
   "outputs": [],
   "source": [
    "training_set = dataset[:100]"
   ]
  },
  {
   "cell_type": "code",
   "execution_count": 14,
   "id": "5645e328",
   "metadata": {},
   "outputs": [],
   "source": [
    "training_set_no_labels = [i[0] for i in dataset[:100]]"
   ]
  },
  {
   "cell_type": "code",
   "execution_count": 15,
   "id": "1e9752e5",
   "metadata": {},
   "outputs": [],
   "source": [
    "#(x1 − x2)^T(x1 − x2).\n",
    "def euclidean_distance(image1, image2):\n",
    "    first_part = (image1 - image2)\n",
    "    return np.inner(first_part, image1 - image2)"
   ]
  },
  {
   "cell_type": "code",
   "execution_count": 16,
   "id": "b5e0123d",
   "metadata": {},
   "outputs": [],
   "source": [
    "#distance one-shot\n",
    "point = dataset[101][0]\n",
    "point_matrix = np.matrix([point for i in range(100)])"
   ]
  },
  {
   "cell_type": "markdown",
   "id": "3d3d495f",
   "metadata": {},
   "source": [
    "## COMPUTE DISTANCE ONCE steps:"
   ]
  },
  {
   "cell_type": "code",
   "execution_count": 17,
   "id": "0198ab4c",
   "metadata": {},
   "outputs": [
    {
     "data": {
      "text/plain": [
       "(matrix([[1, 1],\n",
       "         [1, 1],\n",
       "         [1, 1]]),\n",
       " matrix([[5, 2],\n",
       "         [4, 1],\n",
       "         [3, 0]]))"
      ]
     },
     "execution_count": 17,
     "metadata": {},
     "output_type": "execute_result"
    }
   ],
   "source": [
    "M1 = np.matrix('[1,1;1,1;1,1]')\n",
    "M2 = np.matrix('[5,2;4,1;3,0]')\n",
    "M1.view(), M2.view()"
   ]
  },
  {
   "cell_type": "code",
   "execution_count": 18,
   "id": "d294ca63",
   "metadata": {},
   "outputs": [
    {
     "data": {
      "text/plain": [
       "matrix([[-4, -1],\n",
       "        [-3,  0],\n",
       "        [-2,  1]])"
      ]
     },
     "execution_count": 18,
     "metadata": {},
     "output_type": "execute_result"
    }
   ],
   "source": [
    "M3 = M1 - M2\n",
    "M3.view()"
   ]
  },
  {
   "cell_type": "code",
   "execution_count": 19,
   "id": "799b892e",
   "metadata": {},
   "outputs": [
    {
     "data": {
      "text/plain": [
       "matrix([[-4, -3, -2],\n",
       "        [-1,  0,  1]])"
      ]
     },
     "execution_count": 19,
     "metadata": {},
     "output_type": "execute_result"
    }
   ],
   "source": [
    "M3_transpose = M3.T\n",
    "M3_transpose.view()"
   ]
  },
  {
   "cell_type": "markdown",
   "id": "78b654a0",
   "metadata": {},
   "source": [
    "## the diagonal are the distances"
   ]
  },
  {
   "cell_type": "code",
   "execution_count": 20,
   "id": "26e567c6",
   "metadata": {},
   "outputs": [
    {
     "data": {
      "text/plain": [
       "matrix([[29,  2],\n",
       "        [ 2,  2]])"
      ]
     },
     "execution_count": 20,
     "metadata": {},
     "output_type": "execute_result"
    }
   ],
   "source": [
    "np.dot(M3_transpose, M3) # 25 is the distance between (5,5) and (1,2). 5 is the distance between (5,5) and (3,4)"
   ]
  },
  {
   "cell_type": "markdown",
   "id": "63a1d8aa",
   "metadata": {},
   "source": [
    "## __________________________________________________________________________________________________________________"
   ]
  },
  {
   "cell_type": "code",
   "execution_count": 21,
   "id": "77803695",
   "metadata": {},
   "outputs": [],
   "source": [
    "#COMPUTE DISTANCE ONCE:\n",
    "def distances_col_vectors(M1, M2):\n",
    "    M3 = M1 - M2\n",
    "    M3_transpose = M3.T\n",
    "    R = np.dot(M3_transpose, M3)\n",
    "    #I need only the diagonal\n",
    "    return R.diagonal().tolist()[0]"
   ]
  },
  {
   "cell_type": "markdown",
   "id": "e5375ae6",
   "metadata": {},
   "source": [
    "# distances between training set and image 101"
   ]
  },
  {
   "cell_type": "code",
   "execution_count": 22,
   "id": "3766639c",
   "metadata": {},
   "outputs": [
    {
     "data": {
      "text/plain": [
       "[(33.317361418848996, '5'),\n",
       " (47.19824827668923, '5'),\n",
       " (47.41464882615754, '5'),\n",
       " (47.90521024636718, '5'),\n",
       " (50.307038824772626, '5'),\n",
       " (50.63673850491498, '5'),\n",
       " (51.46471540701099, '5'),\n",
       " (54.12354826595959, '5'),\n",
       " (54.5199223007366, '5'),\n",
       " (63.764044429078616, '5'),\n",
       " (63.92483693979164, '5'),\n",
       " (64.10457353873628, '5'),\n",
       " (64.47036940441744, '5'),\n",
       " (64.96408182647498, '5'),\n",
       " (66.1510910706191, '5'),\n",
       " (67.03988013678986, '5'),\n",
       " (67.29542891086642, '5'),\n",
       " (68.10018978778407, '5'),\n",
       " (68.11767371241977, '6'),\n",
       " (69.3588839227978, '5'),\n",
       " (69.36578412047332, '5'),\n",
       " (69.675475624235, '5'),\n",
       " (70.27887388000536, '5'),\n",
       " (70.79270951474996, '6'),\n",
       " (71.97829646853928, '5'),\n",
       " (72.28088299557682, '5'),\n",
       " (75.21936106427366, '5'),\n",
       " (75.78930754860235, '5'),\n",
       " (76.0228535778208, '5'),\n",
       " (76.77824779910313, '6'),\n",
       " (77.0845521279619, '6'),\n",
       " (78.081153943831, '6'),\n",
       " (79.05670986656692, '5'),\n",
       " (80.97341725788336, '5'),\n",
       " (81.29900341689768, '6'),\n",
       " (82.14467029853186, '6'),\n",
       " (83.0858277683714, '6'),\n",
       " (85.20557956153658, '5'),\n",
       " (85.65519892866018, '6'),\n",
       " (85.75097708544445, '6'),\n",
       " (85.93175636572944, '6'),\n",
       " (86.7297820192818, '6'),\n",
       " (88.0787799462851, '6'),\n",
       " (89.12011590453059, '6'),\n",
       " (89.24870733226902, '6'),\n",
       " (89.52726040393964, '6'),\n",
       " (90.90465115067802, '6'),\n",
       " (91.74032956692777, '6'),\n",
       " (91.84730324826143, '6'),\n",
       " (92.43761681075189, '5'),\n",
       " (92.86477859554564, '5'),\n",
       " (93.12626058643629, '6'),\n",
       " (93.24313143374167, '6'),\n",
       " (93.44637620950569, '6'),\n",
       " (93.5068490265887, '6'),\n",
       " (93.64263930256487, '6'),\n",
       " (96.65996825683702, '6'),\n",
       " (97.01832761556558, '6'),\n",
       " (97.52029431187842, '6'),\n",
       " (97.79624309580193, '6'),\n",
       " (97.83883324687173, '6'),\n",
       " (98.42313132074048, '6'),\n",
       " (98.73997698950993, '6'),\n",
       " (98.94077602910649, '6'),\n",
       " (99.39244959513928, '6'),\n",
       " (100.7464150581942, '6'),\n",
       " (101.20564323382953, '5'),\n",
       " (101.40353928556844, '6'),\n",
       " (101.42896402317692, '6'),\n",
       " (102.78909578247023, '6'),\n",
       " (102.79191872576618, '5'),\n",
       " (102.90436536277079, '5'),\n",
       " (104.365226422777, '5'),\n",
       " (104.6205665481322, '5'),\n",
       " (105.31740261765653, '6'),\n",
       " (105.64518595664202, '5'),\n",
       " (106.6554086666967, '6'),\n",
       " (107.01117058693701, '6'),\n",
       " (107.72454574275592, '5'),\n",
       " (109.94820734565289, '5'),\n",
       " (110.23585574013109, '5'),\n",
       " (110.55005827094467, '6'),\n",
       " (111.37335741202887, '6'),\n",
       " (111.4824850920497, '6'),\n",
       " (112.07862136004753, '6'),\n",
       " (117.13958295503582, '5'),\n",
       " (117.20105025720086, '5'),\n",
       " (118.87564122390502, '5'),\n",
       " (120.76281565758205, '6'),\n",
       " (121.12683426809791, '5'),\n",
       " (123.26957314941703, '5'),\n",
       " (123.47356811565082, '6'),\n",
       " (125.53244730546264, '6'),\n",
       " (126.2095602851554, '5'),\n",
       " (131.90456629989703, '6'),\n",
       " (135.5900690640087, '5'),\n",
       " (138.3516430160538, '6'),\n",
       " (146.2383240461892, '6'),\n",
       " (147.27804684231407, '5'),\n",
       " (150.14340084886214, '5')]"
      ]
     },
     "execution_count": 22,
     "metadata": {},
     "output_type": "execute_result"
    }
   ],
   "source": [
    "distances = distances_col_vectors(np.matrix(training_set_no_labels).T, point_matrix.T)\n",
    "\n",
    "distances_labeled = [(distances[i], training_set[i][1]) for i in range(100)] #labeling the images \n",
    "\n",
    "distances_labeled.sort()\n",
    "#distances_labeled"
   ]
  },
  {
   "cell_type": "code",
   "execution_count": 140,
   "id": "54ca3c42",
   "metadata": {},
   "outputs": [],
   "source": [
    "# majority voting\n",
    "def majority_voting(distances_labeled, max_k): #1 image, numbe of k to try, return if it's wrong 1, or 0 if it's right for each k\n",
    "    count_5 = 0\n",
    "    count_6 = 0\n",
    "    ks = []\n",
    "    for i in range(max_k):\n",
    "        if distances_labeled[i][1] == '5':\n",
    "            count_5 += 1\n",
    "        else:\n",
    "            count_6 += 1\n",
    "        if count_5>=count_6: # predict five\n",
    "            #print(\"K = {0}, label = {1}.\".format(i+1,  distances_labeled[i][1]))\n",
    "            if distances_labeled[i][1] == '5': #predicted 5 got 5\n",
    "                ks.append(0)\n",
    "            else:\n",
    "                ks.append(1) #predicted 5 got 6, wrong\n",
    "            \n",
    "        else: #predict 6\n",
    "            #print(\"K = {0} label = {1}.\".format(i+1,  distances_labeled[i][1]))\n",
    "            if distances_labeled[i][1] == '6': #predicted 6 got 6\n",
    "                ks.append(0)\n",
    "            else:\n",
    "                ks.append(1)#predicted 6 got 5, wrong\n",
    "    \n",
    "    return ks\n",
    "            \n",
    "#majority_voting(distances_labeled, 50) # list of ks and if it is wrong or not"
   ]
  },
  {
   "cell_type": "code",
   "execution_count": 141,
   "id": "d967580a",
   "metadata": {},
   "outputs": [],
   "source": [
    "#creating validation sets\n",
    "\n",
    "i_set = [1, 2, 3, 4, 5]\n",
    "n_set = [10, 20, 40, 80]\n",
    "all_validations = {} # key = size og the validation sets, value = the 5 validation sets of size key\n",
    "\n",
    "#N SIZE 10\n",
    "for n in n_set:\n",
    "    validation_sets = []\n",
    "    for i in i_set:\n",
    "        validation_set = []\n",
    "        for j in range(n): #size 10 validation set, and so on\n",
    "            validation_set.append(dataset[100 + (i + 1)* j])\n",
    "        validation_sets.append(validation_set)\n",
    "    all_validations[n] = validation_sets"
   ]
  },
  {
   "cell_type": "code",
   "execution_count": 142,
   "id": "8371f6c3",
   "metadata": {},
   "outputs": [
    {
     "data": {
      "text/plain": [
       "array([0. , 0. , 0.1, 0.1, 0.1, 0.1, 0.1, 0. , 0.1, 0. , 0. , 0.2, 0.1,\n",
       "       0. , 0.3, 0.2, 0.4, 0.3, 0.2, 0.2, 0. , 0.1, 0.1, 0.3, 0.2, 0.3,\n",
       "       0.4, 0.4, 0.1, 0.2, 0.3, 0.3, 0.4, 0.5, 0.4, 0.5, 0.5, 0.5, 0.3,\n",
       "       0.7, 0.4, 0.6, 0.5, 0.5, 0.5, 0.7, 0.7, 0.6, 0.7, 0.8])"
      ]
     },
     "execution_count": 142,
     "metadata": {},
     "output_type": "execute_result"
    }
   ],
   "source": [
    "k_results = []\n",
    "max_k = 50\n",
    "for image in all_validations[10][0]:\n",
    "    distances = distances_col_vectors(np.matrix(training_set_no_labels).T, np.matrix(image[0]).T)\n",
    "    distances_labeled = [(distances[i], training_set[i][1]) for i in range(100)] #labeling the images \n",
    "    distances_labeled.sort()\n",
    "    k_results.append(np.array(majority_voting(distances_labeled, max_k))) #size of the validation set, each list contains with each k it was classified wrongly\n",
    "\n",
    "    \n",
    "    final_error_per_k = np.zeros(max_k)\n",
    "for i in k_results:\n",
    "    final_error_per_k += i #all errors for each k summed up #STARTS WITH K = 1\n",
    "\n",
    "#compute error rate\n",
    "error_rate = final_error_per_k/n_set[0] #ERRORS %\n",
    "error_rate"
   ]
  },
  {
   "cell_type": "code",
   "execution_count": 143,
   "id": "0ab4d89a",
   "metadata": {},
   "outputs": [],
   "source": [
    "k_results = []\n",
    "max_k = 50\n",
    "\n",
    "all_errors = {}\n",
    "\n",
    "for key in all_validations: #validation sizes\n",
    "    error_size_k = []\n",
    "    for validation_set in all_validations[key]:\n",
    "        k_results = []\n",
    "        for image in validation_set:\n",
    "            distances = distances_col_vectors(np.matrix(training_set_no_labels).T, np.matrix(image[0]).T)\n",
    "            distances_labeled = [(distances[i], training_set[i][1]) for i in range(100)] #labeling the images \n",
    "            distances_labeled.sort()\n",
    "            k_results.append(np.array(majority_voting(distances_labeled, max_k))) #size of the validation set, each list contains with each k it was classified wrongly\n",
    "\n",
    "        final_error_per_k = np.zeros(max_k)\n",
    "        for i in k_results:\n",
    "            final_error_per_k += i #all errors for each k summed up #STARTS WITH K = 1\n",
    "        #compute error rate\n",
    "        error_rate = final_error_per_k/key #ERRORS %\n",
    "        error_size_k.append(error_rate)\n",
    "    all_errors[key] = error_size_k"
   ]
  },
  {
   "cell_type": "code",
   "execution_count": 146,
   "id": "4df7452d",
   "metadata": {},
   "outputs": [
    {
     "data": {
      "text/plain": [
       "[array([0.    , 0.075 , 0.0375, 0.075 , 0.0625, 0.05  , 0.1375, 0.075 ,\n",
       "        0.075 , 0.1   , 0.1375, 0.1875, 0.1125, 0.175 , 0.1875, 0.25  ,\n",
       "        0.25  , 0.1875, 0.25  , 0.1875, 0.2   , 0.2375, 0.3   , 0.35  ,\n",
       "        0.3125, 0.4625, 0.425 , 0.4125, 0.35  , 0.4125, 0.4   , 0.3625,\n",
       "        0.425 , 0.475 , 0.3625, 0.3875, 0.4375, 0.4375, 0.45  , 0.4875,\n",
       "        0.525 , 0.5375, 0.5   , 0.5   , 0.6   , 0.5875, 0.625 , 0.6   ,\n",
       "        0.575 , 0.625 ]),\n",
       " array([0.    , 0.025 , 0.1125, 0.05  , 0.0375, 0.125 , 0.125 , 0.0625,\n",
       "        0.1125, 0.125 , 0.1875, 0.2   , 0.1375, 0.1625, 0.1625, 0.1625,\n",
       "        0.3   , 0.2375, 0.2   , 0.25  , 0.2   , 0.2125, 0.2   , 0.3375,\n",
       "        0.2875, 0.3125, 0.3   , 0.3125, 0.2875, 0.4125, 0.3625, 0.2625,\n",
       "        0.375 , 0.425 , 0.2625, 0.55  , 0.4125, 0.4625, 0.3625, 0.525 ,\n",
       "        0.475 , 0.525 , 0.4   , 0.4625, 0.5125, 0.6125, 0.5125, 0.6   ,\n",
       "        0.5125, 0.675 ]),\n",
       " array([0.    , 0.05  , 0.075 , 0.0625, 0.0625, 0.0625, 0.1   , 0.1   ,\n",
       "        0.1   , 0.1125, 0.15  , 0.1125, 0.1875, 0.175 , 0.1625, 0.225 ,\n",
       "        0.1625, 0.1875, 0.2125, 0.2375, 0.2125, 0.275 , 0.3125, 0.3875,\n",
       "        0.325 , 0.325 , 0.3125, 0.35  , 0.3   , 0.375 , 0.375 , 0.3   ,\n",
       "        0.325 , 0.4   , 0.3   , 0.4375, 0.4375, 0.325 , 0.375 , 0.475 ,\n",
       "        0.5375, 0.4875, 0.425 , 0.425 , 0.55  , 0.575 , 0.575 , 0.6   ,\n",
       "        0.5375, 0.6375]),\n",
       " array([0.    , 0.0125, 0.075 , 0.025 , 0.0625, 0.0375, 0.125 , 0.0625,\n",
       "        0.1375, 0.1375, 0.0875, 0.15  , 0.125 , 0.175 , 0.1875, 0.1125,\n",
       "        0.1875, 0.225 , 0.2   , 0.1875, 0.2125, 0.175 , 0.3   , 0.3625,\n",
       "        0.325 , 0.3   , 0.25  , 0.3625, 0.3375, 0.3875, 0.3875, 0.325 ,\n",
       "        0.35  , 0.375 , 0.325 , 0.3875, 0.4375, 0.4625, 0.525 , 0.4875,\n",
       "        0.5125, 0.5   , 0.525 , 0.4625, 0.5875, 0.525 , 0.3625, 0.575 ,\n",
       "        0.5125, 0.6875]),\n",
       " array([0.    , 0.025 , 0.0625, 0.0125, 0.0375, 0.0375, 0.0625, 0.1   ,\n",
       "        0.0875, 0.0875, 0.1125, 0.15  , 0.1625, 0.1625, 0.1125, 0.1375,\n",
       "        0.1875, 0.1875, 0.1375, 0.1875, 0.2   , 0.1625, 0.175 , 0.275 ,\n",
       "        0.25  , 0.225 , 0.2625, 0.2875, 0.2375, 0.325 , 0.3875, 0.2625,\n",
       "        0.3   , 0.325 , 0.25  , 0.3375, 0.3875, 0.3875, 0.425 , 0.4625,\n",
       "        0.4   , 0.4125, 0.3875, 0.5125, 0.55  , 0.625 , 0.5125, 0.5125,\n",
       "        0.575 , 0.625 ])]"
      ]
     },
     "execution_count": 146,
     "metadata": {},
     "output_type": "execute_result"
    }
   ],
   "source": [
    "all_errors[80]"
   ]
  },
  {
   "cell_type": "markdown",
   "id": "b2f7b99d",
   "metadata": {},
   "source": [
    "## Plot images"
   ]
  },
  {
   "cell_type": "code",
   "execution_count": null,
   "id": "463ecd54",
   "metadata": {},
   "outputs": [],
   "source": []
  },
  {
   "cell_type": "code",
   "execution_count": null,
   "id": "48d0ac95",
   "metadata": {},
   "outputs": [],
   "source": []
  },
  {
   "cell_type": "code",
   "execution_count": null,
   "id": "2dcd2b83",
   "metadata": {},
   "outputs": [],
   "source": []
  },
  {
   "cell_type": "code",
   "execution_count": null,
   "id": "ea3f35e9",
   "metadata": {},
   "outputs": [],
   "source": []
  },
  {
   "cell_type": "code",
   "execution_count": null,
   "id": "572a8127",
   "metadata": {},
   "outputs": [],
   "source": []
  },
  {
   "cell_type": "code",
   "execution_count": null,
   "id": "c9d9a457",
   "metadata": {},
   "outputs": [],
   "source": []
  },
  {
   "cell_type": "code",
   "execution_count": null,
   "id": "79725a45",
   "metadata": {},
   "outputs": [],
   "source": []
  }
 ],
 "metadata": {
  "kernelspec": {
   "display_name": "Python 3 (ipykernel)",
   "language": "python",
   "name": "python3"
  },
  "language_info": {
   "codemirror_mode": {
    "name": "ipython",
    "version": 3
   },
   "file_extension": ".py",
   "mimetype": "text/x-python",
   "name": "python",
   "nbconvert_exporter": "python",
   "pygments_lexer": "ipython3",
   "version": "3.10.5"
  }
 },
 "nbformat": 4,
 "nbformat_minor": 5
}
